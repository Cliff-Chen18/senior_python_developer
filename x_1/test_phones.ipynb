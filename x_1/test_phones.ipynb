{
 "cells": [
  {
   "cell_type": "code",
   "execution_count": 1,
   "metadata": {},
   "outputs": [],
   "source": [
    "import phones"
   ]
  },
  {
   "cell_type": "code",
   "execution_count": 2,
   "metadata": {},
   "outputs": [],
   "source": [
    "pixel_phone = phones.google_phone()\n",
    "assert pixel_phone.price == 10\n",
    "assert pixel_phone.camera_count == 3\n",
    "assert pixel_phone.screen_size == 5\n",
    "\n",
    "assert pixel_phone.special_freature([3, 43, 62, 15, 18, 22]) == [62, 22, 18]\n",
    "assert pixel_phone.special_freature([8, 41, 2, 58, 67, 20, 74]) == [74, 58, 20]"
   ]
  },
  {
   "cell_type": "code",
   "execution_count": 3,
   "metadata": {},
   "outputs": [],
   "source": [
    "htc_phone = phones.taiwan_phone()\n",
    "assert htc_phone.price == 20\n",
    "assert htc_phone.camera_count == 1\n",
    "assert htc_phone.screen_size == 3\n",
    "\n",
    "assert htc_phone.special_freature(10) == 120\n",
    "assert htc_phone.special_freature(3) == 0\n",
    "assert htc_phone.special_freature(36) == 20"
   ]
  }
 ],
 "metadata": {
  "interpreter": {
   "hash": "18179ac6cb2ad6d0cca982f229c00b261a7b87b391b904d92f68ede253a68ca7"
  },
  "kernelspec": {
   "display_name": "Python 3.8.12 64-bit ('stockfeel_interview': conda)",
   "language": "python",
   "name": "python3"
  },
  "language_info": {
   "codemirror_mode": {
    "name": "ipython",
    "version": 3
   },
   "file_extension": ".py",
   "mimetype": "text/x-python",
   "name": "python",
   "nbconvert_exporter": "python",
   "pygments_lexer": "ipython3",
   "version": "3.8.12"
  },
  "orig_nbformat": 4
 },
 "nbformat": 4,
 "nbformat_minor": 2
}
